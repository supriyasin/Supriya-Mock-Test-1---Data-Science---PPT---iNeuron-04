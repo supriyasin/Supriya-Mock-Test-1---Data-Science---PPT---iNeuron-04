{
 "cells": [
  {
   "cell_type": "code",
   "execution_count": 1,
   "id": "67eea2ba",
   "metadata": {},
   "outputs": [
    {
     "name": "stdout",
     "output_type": "stream",
     "text": [
      "P-value: 0.09434977284243756\n"
     ]
    }
   ],
   "source": [
    "#20. Write a function called ‘perform_hypothesis_test’ that takes two lists of numbers as input, representing two \n",
    "samples. The function should perform a two-sample t-test and return the p-value. Use the ‘scipy.stats’ module in \n",
    "Python to calculate the t-test and p-value.\n",
    "\n",
    "Example:\n",
    "\n",
    "from scipy import stats\n",
    "\n",
    "def perform_hypothesis_test(sample1, sample2):\n",
    "    t_statistic, p_value = stats.ttest_ind(sample1, sample2)\n",
    "    return p_value\n",
    "\n",
    "sample1 = [5, 10, 15, 20, 25]\n",
    "sample2 = [10, 20, 30, 40, 50]\n",
    "p_value = perform_hypothesis_test(sample1, sample2)\n",
    "print(\"P-value:\", p_value)\n",
    "\n",
    "Output:\n",
    "P-value: 0.1064706396450037\n",
    "\n",
    "#Here's the implementation of the perform_hypothesis_test function that takes two lists of numbers as input and performs\n",
    "a two-sample t-test using the scipy.stats module in Python:\n",
    "\n",
    "from scipy import stats\n",
    "\n",
    "def perform_hypothesis_test(sample1, sample2):\n",
    "    t_statistic, p_value = stats.ttest_ind(sample1, sample2)\n",
    "    return p_value\n",
    "\n",
    "sample1 = [5, 10, 15, 20, 25]\n",
    "sample2 = [10, 20, 30, 40, 50]\n",
    "p_value = perform_hypothesis_test(sample1, sample2)\n",
    "print(\"P-value:\", p_value)\n",
    "\n",
    "\"\"\"The perform_hypothesis_test function calculates the t-test using stats.ttest_ind from the scipy.stats module. \n",
    "   It takes two samples as input (sample1 and sample2) and returns the calculated p-value. In the provided example, \n",
    "   sample1 is [5, 10, 15, 20, 25] and sample2 is [10, 20, 30, 40, 50]. The calculated p-value is then printed, \n",
    "   resulting in the output:\"\"\""
   ]
  },
  {
   "cell_type": "code",
   "execution_count": null,
   "id": "8d6ad99a",
   "metadata": {},
   "outputs": [],
   "source": []
  }
 ],
 "metadata": {
  "kernelspec": {
   "display_name": "Python 3 (ipykernel)",
   "language": "python",
   "name": "python3"
  },
  "language_info": {
   "codemirror_mode": {
    "name": "ipython",
    "version": 3
   },
   "file_extension": ".py",
   "mimetype": "text/x-python",
   "name": "python",
   "nbconvert_exporter": "python",
   "pygments_lexer": "ipython3",
   "version": "3.9.12"
  }
 },
 "nbformat": 4,
 "nbformat_minor": 5
}
